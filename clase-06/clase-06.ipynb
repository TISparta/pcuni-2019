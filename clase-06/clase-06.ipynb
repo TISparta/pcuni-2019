{
 "cells": [
  {
   "cell_type": "markdown",
   "metadata": {},
   "source": [
    "## Clase 06"
   ]
  },
  {
   "cell_type": "markdown",
   "metadata": {},
   "source": [
    "### Objetivos\n",
    "\n",
    "* Analizar problemas que requieran computar todas las permutaciones de un arreglo\n",
    "* Analizar problemas que requieran computar todas los subconjuntos de un arreglo\n",
    "* Mostrar como hacer sobrecarga de operadores"
   ]
  },
  {
   "cell_type": "markdown",
   "metadata": {},
   "source": [
    "### Problema motivacional 1\n",
    "\n",
    "Dado un entero `n`. Imprime todas las permutaciones de $\\{1, 2, \\dots, n \\}$\n",
    "\n",
    "**Limites:** $1 \\leq n \\leq 9$"
   ]
  },
  {
   "cell_type": "markdown",
   "metadata": {},
   "source": [
    "### Problema motivacional 2\n",
    "\n",
    "Dado un entero `n` seguido de `n` enteros $a_1, a_2, \\dots, a_n$. Imprime la suma de elementos de cada subconjunto de los `n` dados.\n",
    "\n",
    "**Limites:** $1 \\leq n \\leq 20$"
   ]
  },
  {
   "cell_type": "markdown",
   "metadata": {},
   "source": [
    "### Problema motivacional 3\n",
    "\n",
    "Dado un entero `n` seguido de `n` pares de elementos `a_i`, `b_i` (que representan a la fracción $\\frac{a_i}{b_i}$). Imprimir las `n` fracciones en forma creciente.\n",
    "\n",
    "**Nota** \n",
    "\n",
    "$$\\frac{a}{b} < \\frac{c}{d} \\leftrightarrow a \\cdot d < b \\cdot c$$\n",
    "\n",
    "**Limites:** $1 \\leq n \\leq 10 ^ 5$"
   ]
  },
  {
   "cell_type": "markdown",
   "metadata": {},
   "source": [
    "![](./images/big-oh.png)"
   ]
  },
  {
   "cell_type": "markdown",
   "metadata": {},
   "source": [
    "## Soluciones\n",
    "\n",
    "### Problema motivacional 1"
   ]
  },
  {
   "cell_type": "markdown",
   "metadata": {},
   "source": [
    "Una solución a este problema es simplemente usar la `STL`. Pues, hay funciones que nos pueden ayudar a hacer esta tarea:\n",
    "\n",
    "* [`next_permutation`](http://www.cplusplus.com/reference/algorithm/next_permutation/)\n",
    "* [`iota`](http://www.cplusplus.com/reference/numeric/iota/)\n",
    "\n",
    "Obteniendo una solución $O(n \\cdot n!)$ (más detalles en clase)\n",
    "\n",
    "```c++\n",
    "#include <bits/stdc++.h>\n",
    "\n",
    "#define all(X) begin(X), end(X)\n",
    "\n",
    "using namespace std;\n",
    "\n",
    "int main () {\n",
    "  int n;\n",
    "  cin >> n;\n",
    "  vector <int> p(n);\n",
    "  iota(all(p), 1);\n",
    "  do {\n",
    "    for (int p_i: p) cout << p_i << ' ';\n",
    "    cout << endl;\n",
    "  } while(next_permutation(all(p)));\n",
    "  return (0);\n",
    "}\n",
    "```\n",
    "\n",
    "También, te podría interesar leer [esta clase del curso del año pasado](https://nbviewer.jupyter.org/github/GPC-UNI/Programacion-Competitiva/blob/master/uni-no-fiis/clase-05/clase-05.ipynb)\n",
    "\n",
    "**Reto 1: ¿Cómo harías una solución recursiva del problema en $O(n!)$?**"
   ]
  },
  {
   "cell_type": "markdown",
   "metadata": {},
   "source": [
    "### Problema motivacional 2\n",
    "\n",
    "Una solución a este problema es usando máscara de bits.\n",
    "\n",
    "Para entender ello, primero veamos algunos datos útiles.\n",
    "\n",
    "* Un int usa 32-bits\n",
    "* Un long long usa 64-bits\n",
    "* Un entero que usa `k` bits puede almacenar números en $[-2 ^ {k - 1}, 2 ^ {k - 1})$\n",
    "* Un entero sin signo que usa `k` bits puede almacenar números en $[0, 2 ^ k)$"
   ]
  },
  {
   "cell_type": "markdown",
   "metadata": {},
   "source": [
    "En c++ podemos comprobar lo anterior con el siguiente código:\n",
    "\n",
    "```c++\n",
    "  cout << INT_MIN << ' ' << INT_MAX << endl;\n",
    "  cout << UINT_MAX << endl;\n",
    "  cout << LLONG_MIN << ' ' << LLONG_MAX << endl;\n",
    "  cout << ULLONG_MAX << endl;\n",
    "```"
   ]
  },
  {
   "cell_type": "markdown",
   "metadata": {},
   "source": [
    "Los enteros se guardan en su representación binaria usando `k` bits (completando con `0`s si es necesario).\n",
    "\n",
    "Por ejemplo, para un entero de `8` bits, los siguientes números se guardarían asi:\n",
    "\n",
    "* 5 = 00000101\n",
    "* 7 = 00000111\n",
    "* 8 = 00001000\n",
    "* 12 = 00001100\n",
    "* 19 = 00010011\n"
   ]
  },
  {
   "cell_type": "markdown",
   "metadata": {},
   "source": [
    "En c++ podemos comprobar lo anterior con el siguiente código:\n",
    "    \n",
    "```c++\n",
    "  for (int num: {5, 7, 8, 12, 19}) {\n",
    "    cout << setw(2) << num << ' ' << bitset <8>(num) << endl;\n",
    "  }\n",
    "```"
   ]
  },
  {
   "cell_type": "markdown",
   "metadata": {},
   "source": [
    "En c++ podemos trabajar con los números a nivel de bits usando estas operaciones\n",
    "\n",
    "| & | 0 | 1 |\n",
    "|--:|---|---|\n",
    "| 0 | 0 | 0 |\n",
    "| 1 | 0 | 1 |\n",
    "\n",
    "| $\\mid$ | 0 | 1 |\n",
    "|--:|---|---|\n",
    "| 0 | 0 | 1 |\n",
    "| 1 | 1 | 1 |\n",
    "\n",
    "| ^ | 0 | 1 |\n",
    "|--:|---|---|\n",
    "| 0 | 0 | 1 |\n",
    "| 1 | 1 | 0 |\n",
    "\n",
    "|   | ~ |\n",
    "|--:|---|\n",
    "| 0 | 1 |\n",
    "| 1 | 0 |\n"
   ]
  },
  {
   "cell_type": "markdown",
   "metadata": {},
   "source": [
    "Por ejemplo:\n",
    "\n",
    "* 5 = 00000101\n",
    "* 7 = 00000111\n",
    "\n",
    "* 5 & 7 = 00000101\n",
    "* 5 | 7 = 00000111\n",
    "* 5 ^ 7 = 00000010\n",
    "* ~5 = 11111010\n",
    "* ~7 = 11111000"
   ]
  },
  {
   "cell_type": "markdown",
   "metadata": {},
   "source": [
    "Además, en c++ podemos \"mover\" todos los bits de un números hacia la derecha o izquida con los operadores `>>` y `<<` respectivamente.\n",
    "\n",
    "Por ejemplo:\n",
    "\n",
    "* 5 = 00000101\n",
    "* 7 = 00000111\n",
    "* 5 << 1 = 00001010\n",
    "* 5 << 2 = 00010100\n",
    "* 5 << 3 = 00101000\n",
    "* 7 << 1 = 00001110\n",
    "* 7 >> 1 = 00000011\n",
    "* 7 >> 2 = 00000001"
   ]
  },
  {
   "cell_type": "markdown",
   "metadata": {},
   "source": [
    "Luego, con lo anterior mostrado, dado un número podemos:\n",
    "\n",
    "* Obtener $2 ^ k$\n",
    "    - `1 << k`\n",
    "\n",
    "* Alternar el k-esimo bit (si era `1` volverlo `0` o viceversa)\n",
    "    - `x ^ (1 << k)`\n",
    "    \n",
    "* Apagar (volver `0`) el k-esimo bit\n",
    "    - `x & (~(1 << k))`\n",
    "* Prender (volver `1`) el k-esimo bit\n",
    "    - `x | (1 << k)`\n",
    "* Obtener el k-esimo bit\n",
    "    - `(x >> k) & 1`\n",
    "* ..."
   ]
  },
  {
   "cell_type": "markdown",
   "metadata": {},
   "source": [
    "Así, podemos resolver nuestro problema motivacional en $O(n \\cdot 2 ^ n)$ con el siguiente código (más detalles en clase):\n",
    "\n",
    "```c++\n",
    "  int n;\n",
    "  cin >> n;\n",
    "  vector <int> arr(n);\n",
    "  for (int i = 0; i < n; i++) cin >> arr[i];\n",
    "  for (int mask = 0; mask < (1 << n); mask++) {\n",
    "    int sum = 0;\n",
    "    for (int bit = 0; bit < n; bit++) {\n",
    "      if ((mask >> bit) & 1) sum += arr[bit];\n",
    "    }\n",
    "    cout << bitset <20> (mask) << \" suma = \" << sum << endl;\n",
    "  }\n",
    "\n",
    "```"
   ]
  },
  {
   "cell_type": "markdown",
   "metadata": {},
   "source": [
    "Lo anterior te permitira resolver (con un poco de ingenio) algunas problemas que requieran manipular bits.\n",
    "\n",
    "También te podría interesar investigar sobre\n",
    "\n",
    "* `__builtin_popcount`\n",
    "* `__builtin_clz`\n",
    "* `__builting_ctz`\n",
    "* ¿Cómo se guardan los números negativos?\n",
    "* [La clase de manejo de bits del año pasado](https://nbviewer.jupyter.org/github/GPC-UNI/Programacion-Competitiva/blob/master/uni-no-fiis/clase-04/clase-04.ipynb)\n",
    "\n",
    "**Reto 2: ¿Cómo harías una solución recursiva del problema en $O(2 ^ n)$?**"
   ]
  },
  {
   "cell_type": "markdown",
   "metadata": {},
   "source": [
    "### Problema motivacional 3"
   ]
  },
  {
   "cell_type": "markdown",
   "metadata": {},
   "source": [
    "Iremos explicando en clase como llegar a codear esto (que tiene como subrutina el problema motivacional):\n",
    "\n",
    "```c++\n",
    "/**\n",
    " * Ejemplo de como crear un 'struct' y como usarlo\n",
    " *\n",
    " * Problema\n",
    " * - Queremos tener un tipo de dato de represente una fracción\n",
    " * - Queremos poder ordenar fracciones siguiendo esta relación de orden\n",
    " *      a1   a2\n",
    " *      -- < --      <->     a1 * b2 < a2 * b1\n",
    " *      b1   b2\n",
    " * - Queremos poder usar la operación '+' y '*' entre fracciones\n",
    " */\n",
    "\n",
    "/**\n",
    " * Recibire un número 'n' seguido de 'n' fracciones\n",
    " * Debo imprimir\n",
    " * Las fracciones ordenadas\n",
    " * La suma de las fracciones\n",
    " * El producto de las fracciones\n",
    " */\n",
    "\n",
    "// Para simplificar la solucion, aceptaré que las fracciones tenga 0 en el denominador\n",
    "\n",
    "#include <bits/stdc++.h>\n",
    "\n",
    "using namespace std;\n",
    "\n",
    "struct Fraccion {\n",
    "    int num, den;\n",
    "    // Los constructores tienen el mismo nombre que mi estructura\n",
    "    // Puedo tener más de un constructor\n",
    "    // Estos se diferenciaran por los parametros que reciban\n",
    "    Fraccion() {}\n",
    "    Fraccion(int x, int y) {\n",
    "        num = x;\n",
    "        den = y;\n",
    "    }\n",
    "    // Puedo sobreescribir el operador '<' para poder usar la función 'sort'\n",
    "    // - (Fraccion& otra)\n",
    "    //   Indica que esta función recibirá una referencia de la variable que invoque\n",
    "    //   este método. Así, no se creará una copia de esa variable para esta función\n",
    "    //   Lo que se haga con esta variable dentro de la función se vera reflejado en\n",
    "    //   la variable que la invocó\n",
    "    // - (const Fraccion otra)\n",
    "    //   Indica que el valor de la variable 'otra' será constante en ese método\n",
    "    // - () const {\n",
    "    //   Indica que este método no cambiará el estado de ningún atributo de la instancia\n",
    "    //   de esta 'struct' que invoque el método\n",
    "    bool operator < (const Fraccion& otra) const {\n",
    "        return num * otra.den < den * otra.num;\n",
    "    }\n",
    "    // Si deseo, puedo no usar 'const' y '&'\n",
    "    // Pero esto será un poco más lento ya que crea copias innecesarias\n",
    "    // Y al no definir qué es un 'const', no da libertad al compilador de\n",
    "    // hacer optimizaciones\n",
    "    Fraccion operator + (Fraccion otra) {\n",
    "        return Fraccion(num * otra.den + den * otra.num, den * otra.den);\n",
    "    }\n",
    "    // Este operador cambiará el estado de la instancia que la invoque\n",
    "    // por ello no podemos uasr () const {\n",
    "    void operator *= (const Fraccion& otra){\n",
    "        num = num * otra.num;\n",
    "        den = den * otra.den;\n",
    "    }\n",
    "    // Tambien puedo escribir funciones ('métodos') para este 'struct'\n",
    "    void imprimir(string sep) {\n",
    "        cout << num << '/' << den << sep;\n",
    "    }\n",
    "}; // NO OLVIDAR PONER ';' al final de un 'struct'\n",
    "\n",
    "int n;\n",
    "vector <Fraccion> arr;\n",
    "\n",
    "// Si no deseo sobreescribir el operador ('<') en mi 'struct', puedo definirlo\n",
    "// como una función, así:\n",
    "bool cmp(const Fraccion& X, const Fraccion& Y) {\n",
    "    return X.num * Y.den < X.den * Y.num;\n",
    "}\n",
    "\n",
    "int main() {\n",
    "    cin >> n;\n",
    "    for (int i = 0; i < n; i++) {\n",
    "        int num, den;\n",
    "        cin >> num >> den;\n",
    "        arr.push_back(Fraccion(num, den));\n",
    "    }\n",
    "    sort(arr.begin(), arr.end());\n",
    "    //sort(arr.begin(), arr.end(), cmp);\n",
    "\n",
    "    cout << \"Las fracciones ordenadas\" << endl;\n",
    "    for (auto fraccion : arr) fraccion.imprimir(\"  \");\n",
    "    cout << endl;\n",
    "\n",
    "    Fraccion suma = Fraccion(0, 1);\n",
    "    for (auto fraccion : arr) {\n",
    "        suma = suma + fraccion;\n",
    "        // Si quisiera usar suma += fraccion\n",
    "        // Tendria que definir el operador '+='\n",
    "    }\n",
    "    cout << \"La suma de las fracciones es\" << endl;\n",
    "    suma.imprimir(\"\\n\");\n",
    "\n",
    "    Fraccion producto = Fraccion(1, 1);\n",
    "    for (auto fraccion : arr) producto *= fraccion;\n",
    "    cout << \"El producto de las fracciones es\" << endl;\n",
    "    producto.imprimir(\"\\n\");\n",
    "\n",
    "    return (0);\n",
    "}\n",
    "```"
   ]
  },
  {
   "cell_type": "markdown",
   "metadata": {},
   "source": [
    "Te podría interesar investigar sobre\n",
    "* [`stable_sort`](http://www.cplusplus.com/reference/algorithm/stable_sort/)"
   ]
  },
  {
   "cell_type": "markdown",
   "metadata": {},
   "source": [
    "### ¿En qué otros problemas puedo aplicar las técnicas aprendidas hoy?\n",
    "\n",
    "... [Contest Time!!!](https://vjudge.net/contest/281225)"
   ]
  }
 ],
 "metadata": {
  "kernelspec": {
   "display_name": "Python 3",
   "language": "python",
   "name": "python3"
  },
  "language_info": {
   "codemirror_mode": {
    "name": "ipython",
    "version": 3
   },
   "file_extension": ".py",
   "mimetype": "text/x-python",
   "name": "python",
   "nbconvert_exporter": "python",
   "pygments_lexer": "ipython3",
   "version": "3.7.1"
  }
 },
 "nbformat": 4,
 "nbformat_minor": 2
}
