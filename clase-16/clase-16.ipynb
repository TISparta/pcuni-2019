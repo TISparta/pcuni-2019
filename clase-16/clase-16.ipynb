{
 "cells": [
  {
   "cell_type": "markdown",
   "metadata": {},
   "source": [
    "# Repaso (Think twice, code once)"
   ]
  },
  {
   "cell_type": "markdown",
   "metadata": {},
   "source": [
    "## Objetivos\n",
    "\n",
    "* Analizar los errores del último contest\n",
    "* Repasar temas vistos anteriormente mediante problemas (principalmente fuerza bruta)\n",
    "* Coordinar horarios para próximas sesiones"
   ]
  },
  {
   "cell_type": "markdown",
   "metadata": {},
   "source": [
    "### Problema 1\n",
    "\n",
    "Dado un array $a_1, a_2, \\dots a_n$. Encontrar cuantas tuplas $(x, y)$ existen tal que\n",
    "\n",
    "$$1 \\leq x < y < n \\land \\displaystyle\\sum_{i = 1}^{x} a_i = \\displaystyle\\sum_{x + 1}^{y} a_i = \\displaystyle\\sum_{y + 1}^{n} a_i$$\n",
    "\n",
    "\n",
    "$$1 \\leq n \\leq 10 ^ 5$$\n",
    "$$-10 ^ 4 \\leq a_i \\leq 10 ^ 4$$"
   ]
  },
  {
   "cell_type": "markdown",
   "metadata": {},
   "source": [
    "### Problema 2\n",
    "\n",
    "Recibirás dos números $a, b$ seguido que $q$ consultas de la forma $l, r$.\n",
    "\n",
    "Para cada consulta imprime el máximo $d \\in [l, r]$ tal que $d$ sea divisor de $a$ y $b$ o $-1$ si tal $d$ no existe.\n",
    "\n",
    "$$1 \\leq a, b \\leq 10 ^ 9$$\n",
    "$$1 \\leq q \\leq 10 ^ 4$$\n",
    "$$1 \\leq l \\leq r \\leq 10 ^ 9$$"
   ]
  },
  {
   "cell_type": "markdown",
   "metadata": {},
   "source": [
    "### Problema 3\n",
    "\n",
    "Tiene `n` cajas con $a_i$ caramelos en la i-esima caja. Debes repartir esos caramelos entre $k$ niños de tal manera que cada niño obtenga la misma cantidad de caramelos y que estos sean de una misma caja. ¿Cuál es la mayor cantidad de caramelos que un niño puede recibir?\n",
    "\n",
    "$$1 \\leq n \\leq 5 \\cdot 10 ^ 4$$\n",
    "$$1 \\leq k \\leq 10 ^ 9$$\n",
    "$$1 \\leq a_i \\leq 10 ^ 9$$"
   ]
  },
  {
   "cell_type": "markdown",
   "metadata": {},
   "source": [
    "### Problema 4\n",
    "\n",
    "$N_0 = 1$\n",
    "\n",
    "$N_i = N_{i - 1} + f(N_{i - 1})$\n",
    "\n",
    "donde $f(x) = $ número de divisores de $x$\n",
    "\n",
    "Recibirás $T$ consultas de la forma $l, r$ y deberás responder cuantos $i$ existen tal que $l \\leq N_i \\leq r$.\n",
    "\n",
    "$$1 \\leq T \\leq 10 ^ 5$$\n",
    "$$1 \\leq l \\leq r \\leq 10 ^ 6$$"
   ]
  },
  {
   "cell_type": "markdown",
   "metadata": {},
   "source": [
    "### Problema 5\n",
    "\n",
    "Recibirás una matrix de $n \\times m$ donde cada fila será una permutacion de $1 ... m$.\n",
    "Tienes permitido escojer (una sola vez) dos columnas (posiblemente las mismas) y cambiar sus elementos y para cada fila tienes permitido escojer (una sola vez) dos posiciones (posiblemente las mismas) y cambiar sus elementos.\n",
    "Las anteriores operaciones las puedes realizar en cualquier orden.\n",
    "\n",
    "Tu tarea consiste en imprimir 'SI' en caso es posible obtener la matriz de $n \\times m$ donde cada fila es la permutación identidad de $m$ elementos $(1, 2, 3, \\dots, m)$ usando las operaciones anteriormente descritas o 'NO' en caso no sea posible.\n",
    "\n",
    "$$1 \\leq n, m \\leq 20$$"
   ]
  },
  {
   "cell_type": "markdown",
   "metadata": {},
   "source": [
    "### Problema 6\n",
    "\n",
    "Un número de la suerte es un número donde sus dígitos son $4$ o $7$. Por ejemplo, $4, 7, 44, 47, 77$ son números de la suerte.\n",
    "\n",
    "Sea:\n",
    "\n",
    "$next(x) = $ menor número de la suerte que es mayor o igual a $x$\n",
    "\n",
    "\n",
    "Recibirás dos números $l, r$ y deberás imprimir $next(l) + next(l + 1) + \\dots + next(r)$ (se garantiza que la respuesta puede ser almacena en un entero de 64-bits)\n",
    "\n",
    "$$1 \\leq l \\leq r \\leq 10 ^ 9$$"
   ]
  },
  {
   "cell_type": "markdown",
   "metadata": {},
   "source": [
    "### Problema 7\n",
    "\n",
    "Dos números $a, b$ se dice que son $k-$interesantes si su representación binaria difiere en exactamente $k$ bits.\n",
    "Dado $n, k$ y una secuencia $a_1, a_2, \\dots a_n$. Determinar cuantos pares $(i, j)$ existen tal que $i < j$ y $a_i, a_j$ son $k-$ interesantes.\n",
    "\n",
    "$$1 \\leq n \\leq 10 ^ 5$$\n",
    "$$0 \\leq k \\leq 14$$\n",
    "$$0 \\leq a_i \\leq 10 ^ 4$$"
   ]
  },
  {
   "cell_type": "markdown",
   "metadata": {},
   "source": [
    "### Problema 8\n",
    "\n",
    "Recibirás un entero $n$ seguido de $n$ números $a_1, a_2, \\dots, a_n$. Debes retornar a cantidad de pares $(i, j)$ tal que $i < j \\land a_i$ y $a_j$ tengan algun dígito en común (no necesariamente en la misma posición).\n",
    "\n",
    "$$1 \\leq n \\leq 5 \\cdot 10 ^ 5$$\n",
    "$$1 \\leq a_i \\leq 10 ^ {18}$$"
   ]
  },
  {
   "cell_type": "markdown",
   "metadata": {},
   "source": [
    "### Problema 9\n",
    "\n",
    "Recibirás un $n$ seguido de una sudoku de $n ^ 2 \\times n ^ 2$ donde los espacios que aún no se han completado tendrán 0's. El objetivo es imprimir la solución del sudoku con el menor [orden lexicográfico](https://es.wikipedia.org/wiki/Orden_lexicogr%C3%A1fico) o imprimir 'NO SOLUTION' en caso de no tener solución el sudoku dado.\n",
    "\n",
    "Por ejemplo, para $n = 3$, si se recibe el sudoku de la izquierda, se deberá retornar el sudoku de la derecha.\n",
    "\n",
    "![](./images/sudoku.png)"
   ]
  },
  {
   "cell_type": "markdown",
   "metadata": {},
   "source": [
    "## [Contest time!!!](https://vjudge.net/contest/288350)"
   ]
  }
 ],
 "metadata": {
  "kernelspec": {
   "display_name": "Python 3",
   "language": "python",
   "name": "python3"
  },
  "language_info": {
   "codemirror_mode": {
    "name": "ipython",
    "version": 3
   },
   "file_extension": ".py",
   "mimetype": "text/x-python",
   "name": "python",
   "nbconvert_exporter": "python",
   "pygments_lexer": "ipython3",
   "version": "3.7.1"
  }
 },
 "nbformat": 4,
 "nbformat_minor": 2
}
